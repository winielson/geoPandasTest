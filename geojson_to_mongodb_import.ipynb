{
 "cells": [
  {
   "cell_type": "markdown",
   "metadata": {},
   "source": [
    "### Remove comma if line begins with comma"
   ]
  },
  {
   "cell_type": "code",
   "execution_count": 2,
   "metadata": {},
   "outputs": [],
   "source": [
    "with open('data\\file.json', 'r') as r, open('data\\file_out.json', 'w') as w:    \n",
    "    for num, line in enumerate(r):\n",
    "        if line[0] == ',':            \n",
    "            newline = '' + \"\\n\" if \"\\n\" in line else line[:-1]\n",
    "        else:\n",
    "            newline = line               \n",
    "        w.write(newline)"
   ]
  },
  {
   "cell_type": "markdown",
   "metadata": {},
   "source": [
    "### Remove comma at end of each line"
   ]
  },
  {
   "cell_type": "code",
   "execution_count": null,
   "metadata": {},
   "outputs": [],
   "source": [
    "with open('data\\file.json', 'r') as r, open('data\\file_out.json', 'w') as w:    \n",
    "    for num, line in enumerate(r):\n",
    "        if num > 0:            \n",
    "            newline = line[:-2] + \"\\n\" if \"\\n\" in line else line[:-1]\n",
    "        else:\n",
    "            newline = line               \n",
    "        w.write(newline)       "
   ]
  },
  {
   "cell_type": "markdown",
   "metadata": {},
   "source": [
    "### Remove comma if at end"
   ]
  },
  {
   "cell_type": "code",
   "execution_count": 12,
   "metadata": {},
   "outputs": [],
   "source": [
    "with open('data\\gdacGeoParsed.geojson', 'r') as r, open('data\\gdacGeoParsed2.geojson', 'w') as w:    \n",
    "    for num, line in enumerate(r):\n",
    "        if line[:12] == '    \"Populat' and line[-2] == ',':\n",
    "            #if line[:-2] == ',':\n",
    "            newline = line[:-2] + \"\\n\" if \"\\n\" in line else line[:-1]\n",
    "        else:\n",
    "            newline = line               \n",
    "        w.write(newline)       "
   ]
  },
  {
   "cell_type": "code",
   "execution_count": 9,
   "metadata": {},
   "outputs": [
    {
     "name": "stdout",
     "output_type": "stream",
     "text": [
      "    }, \n",
      "\n",
      "    }, \n",
      "\n",
      "    }, \n",
      "\n",
      "    }, \n",
      "\n",
      "    }, \n",
      "\n",
      "    }, \n",
      "\n",
      "    }, \n",
      "\n",
      "    }, \n",
      "\n",
      "    }, \n",
      "\n",
      "    }, \n",
      "\n",
      "    }, \n",
      "\n",
      "    }, \n",
      "\n",
      "    }, \n",
      "\n",
      "    }, \n",
      "\n",
      "    }, \n",
      "\n",
      "    }, \n",
      "\n",
      "    }, \n",
      "\n",
      "    }, \n",
      "\n",
      "    }, \n",
      "\n",
      "    }, \n",
      "\n",
      "    }, \n",
      "\n"
     ]
    }
   ],
   "source": [
    "with open('data\\esri_hurricanes_forecast_pos_parsed.geojson', 'r') as r, open('data\\esri_hurricanes_forecast_pos_parsed2.geojson', 'w') as w:    \n",
    "    for num, line in enumerate(r):\n",
    "        if line == '    }, \\n':            \n",
    "            print(line)\n",
    "        else:\n",
    "            pass\n",
    "            #print(line[:12])               "
   ]
  },
  {
   "cell_type": "code",
   "execution_count": 10,
   "metadata": {},
   "outputs": [],
   "source": [
    "with open('data\\esri_hurricanes_forecast_pos_parsed.geojson', 'r') as r, open('data\\esri_hurricanes_forecast_pos_parsed2.geojson', 'w') as w:    \n",
    "    for num, line in enumerate(r):\n",
    "        if line == '    }, \\n':     \n",
    "            #if line[:-2] == ',':\n",
    "            newline = line[:-3] + \"\\n\" if \"\\n\" in line else line[:-1]\n",
    "        else:\n",
    "            newline = line               \n",
    "        w.write(newline)       "
   ]
  },
  {
   "cell_type": "code",
   "execution_count": 11,
   "metadata": {},
   "outputs": [],
   "source": [
    "with open('data\\esri_hurricanes_forecast_pos_parsed2.geojson', 'r') as r, open('data\\esri_hurricanes_forecast_pos_parsed3.geojson', 'w') as w:    \n",
    "    for num, line in enumerate(r):\n",
    "        if line != '    }\\n':\n",
    "            #if line[:-2] == ',':\n",
    "            newline = line[:-1]\n",
    "        else:\n",
    "            newline = line               \n",
    "        w.write(newline)   "
   ]
  },
  {
   "cell_type": "code",
   "execution_count": 29,
   "metadata": {},
   "outputs": [],
   "source": [
    "with open('data\\gdacGeoParsed3.json', 'r') as r, open('data\\gdacGeoParsed4.json', 'w') as w:    \n",
    "    for num, line in enumerate(r):\n",
    "        if line[-2] == '}':\n",
    "            #if line[:-2] == ',':\n",
    "            newline = line[:-2] + '},\\n'\n",
    "        else:\n",
    "            newline = line               \n",
    "        w.write(newline)   "
   ]
  },
  {
   "cell_type": "code",
   "execution_count": null,
   "metadata": {},
   "outputs": [],
   "source": []
  }
 ],
 "metadata": {
  "kernelspec": {
   "display_name": "Python 3",
   "language": "python",
   "name": "python3"
  },
  "language_info": {
   "codemirror_mode": {
    "name": "ipython",
    "version": 3
   },
   "file_extension": ".py",
   "mimetype": "text/x-python",
   "name": "python",
   "nbconvert_exporter": "python",
   "pygments_lexer": "ipython3",
   "version": "3.7.4"
  }
 },
 "nbformat": 4,
 "nbformat_minor": 2
}
