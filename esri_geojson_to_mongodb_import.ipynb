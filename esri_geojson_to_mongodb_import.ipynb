{
 "cells": [
  {
   "cell_type": "markdown",
   "metadata": {},
   "source": [
    "# Change file names to desired file and then run all cells"
   ]
  },
  {
   "cell_type": "markdown",
   "metadata": {},
   "source": [
    "### Remove first three lines and last 2 lines"
   ]
  },
  {
   "cell_type": "code",
   "execution_count": 11,
   "metadata": {},
   "outputs": [],
   "source": [
    "with open('torpath.geojson', 'r') as r:\n",
    "    data = r.read().splitlines(True)\n",
    "\n",
    "with open('torpath2.geojson', 'w') as w:  \n",
    "    w.writelines(data[4:-2])"
   ]
  },
  {
   "cell_type": "markdown",
   "metadata": {},
   "source": [
    "### Remove comma at end of each feature"
   ]
  },
  {
   "cell_type": "code",
   "execution_count": 12,
   "metadata": {
    "scrolled": true
   },
   "outputs": [],
   "source": [
    "with open('torpath2.geojson', 'r') as r, open('torpath3.geojson', 'w') as w:    \n",
    "    for num, line in enumerate(r):\n",
    "        if line == '    }, \\n':     \n",
    "            newline = line[:-3] + \"\\n\" if \"\\n\" in line else line[:-1]\n",
    "        else:\n",
    "            newline = line               \n",
    "        w.write(newline)"
   ]
  },
  {
   "cell_type": "markdown",
   "metadata": {},
   "source": [
    "### OR Remove comma at end of each line"
   ]
  },
  {
   "cell_type": "code",
   "execution_count": 13,
   "metadata": {},
   "outputs": [],
   "source": [
    "with open('torpath2.geojson', 'r') as r, open('torpath3.geojson', 'w') as w:    \n",
    "    for num, line in enumerate(r):\n",
    "        if num > 0:            \n",
    "            newline = line[:-2] + \"\\n\" if \"\\n\" in line else line[:-1]\n",
    "        else:\n",
    "            newline = line               \n",
    "        w.write(newline)       "
   ]
  },
  {
   "cell_type": "markdown",
   "metadata": {},
   "source": [
    "### Make features in one row"
   ]
  },
  {
   "cell_type": "code",
   "execution_count": 14,
   "metadata": {},
   "outputs": [],
   "source": [
    "with open('torpath3.geojson', 'r') as r, open('torpath4.geojson', 'w') as w:    \n",
    "    for num, line in enumerate(r):\n",
    "        if line != '    }\\n':\n",
    "            #if line[:-2] == ',':\n",
    "            newline = line[:-1]\n",
    "        else:\n",
    "            newline = line               \n",
    "        w.write(newline)   "
   ]
  },
  {
   "cell_type": "markdown",
   "metadata": {},
   "source": [
    "### Remove whitespace in file"
   ]
  },
  {
   "cell_type": "code",
   "execution_count": 15,
   "metadata": {},
   "outputs": [],
   "source": [
    "# first get all lines from file\n",
    "with open('torpath4.geojson', 'r') as r:\n",
    "    lines = r.readlines()\n",
    "\n",
    "# remove spaces\n",
    "lines = [line.replace(' ', '') for line in lines]\n",
    "\n",
    "# finally, write lines in the file\n",
    "with open('torpath5.geojson', 'w') as w:\n",
    "    w.writelines(lines)"
   ]
  },
  {
   "cell_type": "markdown",
   "metadata": {},
   "source": [
    "## Now go to compass, go to a collection or make a new collection, then import the final parsed file into the collection\n",
    "\n",
    "Everything should be imported as separate documents"
   ]
  }
 ],
 "metadata": {
  "kernelspec": {
   "display_name": "Python 3",
   "language": "python",
   "name": "python3"
  },
  "language_info": {
   "codemirror_mode": {
    "name": "ipython",
    "version": 3
   },
   "file_extension": ".py",
   "mimetype": "text/x-python",
   "name": "python",
   "nbconvert_exporter": "python",
   "pygments_lexer": "ipython3",
   "version": "3.7.4"
  }
 },
 "nbformat": 4,
 "nbformat_minor": 2
}
